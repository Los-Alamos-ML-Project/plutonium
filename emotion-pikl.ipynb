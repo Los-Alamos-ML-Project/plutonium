{
 "cells": [
  {
   "cell_type": "code",
   "execution_count": 3,
   "metadata": {},
   "outputs": [],
   "source": [
    "import pickle\n",
    "import pandas as pd"
   ]
  },
  {
   "cell_type": "code",
   "execution_count": 4,
   "metadata": {},
   "outputs": [
    {
     "name": "stderr",
     "output_type": "stream",
     "text": [
      "C:\\Users\\Dell\\AppData\\Roaming\\Python\\Python312\\site-packages\\sklearn\\base.py:348: InconsistentVersionWarning: Trying to unpickle estimator TfidfTransformer from version 1.3.0 when using version 1.3.2. This might lead to breaking code or invalid results. Use at your own risk. For more info please refer to:\n",
      "https://scikit-learn.org/stable/model_persistence.html#security-maintainability-limitations\n",
      "  warnings.warn(\n",
      "C:\\Users\\Dell\\AppData\\Roaming\\Python\\Python312\\site-packages\\sklearn\\base.py:348: InconsistentVersionWarning: Trying to unpickle estimator TfidfVectorizer from version 1.3.0 when using version 1.3.2. This might lead to breaking code or invalid results. Use at your own risk. For more info please refer to:\n",
      "https://scikit-learn.org/stable/model_persistence.html#security-maintainability-limitations\n",
      "  warnings.warn(\n",
      "C:\\Users\\Dell\\AppData\\Roaming\\Python\\Python312\\site-packages\\sklearn\\base.py:348: InconsistentVersionWarning: Trying to unpickle estimator SVC from version 1.3.0 when using version 1.3.2. This might lead to breaking code or invalid results. Use at your own risk. For more info please refer to:\n",
      "https://scikit-learn.org/stable/model_persistence.html#security-maintainability-limitations\n",
      "  warnings.warn(\n",
      "C:\\Users\\Dell\\AppData\\Roaming\\Python\\Python312\\site-packages\\sklearn\\base.py:348: InconsistentVersionWarning: Trying to unpickle estimator Pipeline from version 1.3.0 when using version 1.3.2. This might lead to breaking code or invalid results. Use at your own risk. For more info please refer to:\n",
      "https://scikit-learn.org/stable/model_persistence.html#security-maintainability-limitations\n",
      "  warnings.warn(\n"
     ]
    }
   ],
   "source": [
    "with open('svm.pkl', 'rb') as file:\n",
    "    loaded_SVM = pickle.load(file)  "
   ]
  },
  {
   "cell_type": "code",
   "execution_count": 5,
   "metadata": {},
   "outputs": [
    {
     "name": "stdout",
     "output_type": "stream",
     "text": [
      "                                                Text Predicted Emotion\n",
      "0      Feeling joyous, filled with happiness inside.               joy\n",
      "1       Terrified, trembling in fear of the unknown.              fear\n",
      "2             Heartbroken, lost in a sea of despair.           sadness\n",
      "3              Consumed by rage, boiling with anger.               joy\n",
      "4   I stopped feeling cold and began feeling hotter.             anger\n",
      "5       Surprised by events, shock coursing through.          surprise\n",
      "6       Deep relaxation, serenity envelops my being.               joy\n",
      "7      Exhilaration runs high, excitement overflows.               joy\n",
      "8         Boredom creeps in, a dull, listless state.           sadness\n",
      "9           Lifeless and still, devoid of sensation.               joy\n",
      "10          Mihir's code is so bad, it makes me cry.           sadness\n",
      "11        want each of you to feel my gentle embrace              love\n"
     ]
    }
   ],
   "source": [
    "text_samples = [\n",
    "    'Feeling joyous, filled with happiness inside.',\n",
    "    'Terrified, trembling in fear of the unknown.',\n",
    "    'Heartbroken, lost in a sea of despair.',\n",
    "    'Consumed by rage, boiling with anger.',\n",
    "    \"I stopped feeling cold and began feeling hotter.\",\n",
    "    'Surprised by events, shock coursing through.',\n",
    "    'Deep relaxation, serenity envelops my being.',\n",
    "    'Exhilaration runs high, excitement overflows.',\n",
    "    'Boredom creeps in, a dull, listless state.',\n",
    "    'Lifeless and still, devoid of sensation.',\n",
    "    \"Mihir's code is so bad, it makes me cry.\",\n",
    "    \" want each of you to feel my gentle embrace\",\n",
    "]\n",
    "\n",
    "predictions = loaded_SVM.predict(text_samples)\n",
    "data = {'Text': text_samples, 'Predicted Emotion': predictions}\n",
    "df = pd.DataFrame(data)\n",
    "print(df)"
   ]
  }
 ],
 "metadata": {
  "kernelspec": {
   "display_name": "Python 3",
   "language": "python",
   "name": "python3"
  },
  "language_info": {
   "codemirror_mode": {
    "name": "ipython",
    "version": 3
   },
   "file_extension": ".py",
   "mimetype": "text/x-python",
   "name": "python",
   "nbconvert_exporter": "python",
   "pygments_lexer": "ipython3",
   "version": "3.12.0"
  }
 },
 "nbformat": 4,
 "nbformat_minor": 2
}
